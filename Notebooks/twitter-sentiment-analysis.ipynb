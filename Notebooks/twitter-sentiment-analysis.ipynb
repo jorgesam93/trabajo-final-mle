{
 "cells": [
  {
   "cell_type": "markdown",
   "id": "73d3ea37",
   "metadata": {
    "papermill": {
     "duration": 0.013643,
     "end_time": "2024-09-05T17:47:04.956959",
     "exception": false,
     "start_time": "2024-09-05T17:47:04.943316",
     "status": "completed"
    },
    "tags": []
   },
   "source": [
    "# Importing Needed Libraries."
   ]
  },
  {
   "cell_type": "code",
   "execution_count": 1,
   "id": "ac51a3a6",
   "metadata": {
    "_cell_guid": "b1076dfc-b9ad-4769-8c92-a6c4dae69d19",
    "_uuid": "8f2839f25d086af736a60e9eeb907d3b93b6e0e5",
    "execution": {
     "iopub.execute_input": "2024-09-05T17:47:04.985036Z",
     "iopub.status.busy": "2024-09-05T17:47:04.984630Z",
     "iopub.status.idle": "2024-09-05T17:47:13.895708Z",
     "shell.execute_reply": "2024-09-05T17:47:13.894464Z"
    },
    "papermill": {
     "duration": 8.929071,
     "end_time": "2024-09-05T17:47:13.899000",
     "exception": false,
     "start_time": "2024-09-05T17:47:04.969929",
     "status": "completed"
    },
    "tags": []
   },
   "outputs": [],
   "source": [
    "import numpy as np\n",
    "import pandas as pd\n",
    "\n",
    "from sklearn.model_selection import train_test_split\n",
    "from sklearn.feature_extraction.text import TfidfVectorizer\n",
    "from sklearn.preprocessing import LabelEncoder\n",
    "from sklearn.pipeline import Pipeline\n",
    "from sklearn.naive_bayes import MultinomialNB\n",
    "from sklearn.ensemble import RandomForestClassifier\n",
    "from sklearn.metrics import accuracy_score, classification_report\n",
    "\n",
    "import spacy"
   ]
  },
  {
   "cell_type": "markdown",
   "id": "895a0852",
   "metadata": {
    "papermill": {
     "duration": 0.012812,
     "end_time": "2024-09-05T17:47:13.925386",
     "exception": false,
     "start_time": "2024-09-05T17:47:13.912574",
     "status": "completed"
    },
    "tags": []
   },
   "source": [
    "# Exploring the data"
   ]
  },
  {
   "cell_type": "code",
   "execution_count": 2,
   "id": "a6ccf0c1",
   "metadata": {
    "execution": {
     "iopub.execute_input": "2024-09-05T17:47:13.953815Z",
     "iopub.status.busy": "2024-09-05T17:47:13.952904Z",
     "iopub.status.idle": "2024-09-05T17:47:14.365471Z",
     "shell.execute_reply": "2024-09-05T17:47:14.364159Z"
    },
    "papermill": {
     "duration": 0.430271,
     "end_time": "2024-09-05T17:47:14.368456",
     "exception": false,
     "start_time": "2024-09-05T17:47:13.938185",
     "status": "completed"
    },
    "tags": []
   },
   "outputs": [
    {
     "data": {
      "text/html": [
       "<div>\n",
       "<style scoped>\n",
       "    .dataframe tbody tr th:only-of-type {\n",
       "        vertical-align: middle;\n",
       "    }\n",
       "\n",
       "    .dataframe tbody tr th {\n",
       "        vertical-align: top;\n",
       "    }\n",
       "\n",
       "    .dataframe thead th {\n",
       "        text-align: right;\n",
       "    }\n",
       "</style>\n",
       "<table border=\"1\" class=\"dataframe\">\n",
       "  <thead>\n",
       "    <tr style=\"text-align: right;\">\n",
       "      <th></th>\n",
       "      <th>id</th>\n",
       "      <th>country</th>\n",
       "      <th>label</th>\n",
       "      <th>text</th>\n",
       "    </tr>\n",
       "  </thead>\n",
       "  <tbody>\n",
       "    <tr>\n",
       "      <th>0</th>\n",
       "      <td>2401</td>\n",
       "      <td>Borderlands</td>\n",
       "      <td>Positive</td>\n",
       "      <td>im getting on borderlands and i will murder yo...</td>\n",
       "    </tr>\n",
       "    <tr>\n",
       "      <th>1</th>\n",
       "      <td>2401</td>\n",
       "      <td>Borderlands</td>\n",
       "      <td>Positive</td>\n",
       "      <td>I am coming to the borders and I will kill you...</td>\n",
       "    </tr>\n",
       "    <tr>\n",
       "      <th>2</th>\n",
       "      <td>2401</td>\n",
       "      <td>Borderlands</td>\n",
       "      <td>Positive</td>\n",
       "      <td>im getting on borderlands and i will kill you ...</td>\n",
       "    </tr>\n",
       "    <tr>\n",
       "      <th>3</th>\n",
       "      <td>2401</td>\n",
       "      <td>Borderlands</td>\n",
       "      <td>Positive</td>\n",
       "      <td>im coming on borderlands and i will murder you...</td>\n",
       "    </tr>\n",
       "    <tr>\n",
       "      <th>4</th>\n",
       "      <td>2401</td>\n",
       "      <td>Borderlands</td>\n",
       "      <td>Positive</td>\n",
       "      <td>im getting on borderlands 2 and i will murder ...</td>\n",
       "    </tr>\n",
       "    <tr>\n",
       "      <th>...</th>\n",
       "      <td>...</td>\n",
       "      <td>...</td>\n",
       "      <td>...</td>\n",
       "      <td>...</td>\n",
       "    </tr>\n",
       "    <tr>\n",
       "      <th>74677</th>\n",
       "      <td>9200</td>\n",
       "      <td>Nvidia</td>\n",
       "      <td>Positive</td>\n",
       "      <td>Just realized that the Windows partition of my...</td>\n",
       "    </tr>\n",
       "    <tr>\n",
       "      <th>74678</th>\n",
       "      <td>9200</td>\n",
       "      <td>Nvidia</td>\n",
       "      <td>Positive</td>\n",
       "      <td>Just realized that my Mac window partition is ...</td>\n",
       "    </tr>\n",
       "    <tr>\n",
       "      <th>74679</th>\n",
       "      <td>9200</td>\n",
       "      <td>Nvidia</td>\n",
       "      <td>Positive</td>\n",
       "      <td>Just realized the windows partition of my Mac ...</td>\n",
       "    </tr>\n",
       "    <tr>\n",
       "      <th>74680</th>\n",
       "      <td>9200</td>\n",
       "      <td>Nvidia</td>\n",
       "      <td>Positive</td>\n",
       "      <td>Just realized between the windows partition of...</td>\n",
       "    </tr>\n",
       "    <tr>\n",
       "      <th>74681</th>\n",
       "      <td>9200</td>\n",
       "      <td>Nvidia</td>\n",
       "      <td>Positive</td>\n",
       "      <td>Just like the windows partition of my Mac is l...</td>\n",
       "    </tr>\n",
       "  </tbody>\n",
       "</table>\n",
       "<p>74682 rows × 4 columns</p>\n",
       "</div>"
      ],
      "text/plain": [
       "         id      country     label  \\\n",
       "0      2401  Borderlands  Positive   \n",
       "1      2401  Borderlands  Positive   \n",
       "2      2401  Borderlands  Positive   \n",
       "3      2401  Borderlands  Positive   \n",
       "4      2401  Borderlands  Positive   \n",
       "...     ...          ...       ...   \n",
       "74677  9200       Nvidia  Positive   \n",
       "74678  9200       Nvidia  Positive   \n",
       "74679  9200       Nvidia  Positive   \n",
       "74680  9200       Nvidia  Positive   \n",
       "74681  9200       Nvidia  Positive   \n",
       "\n",
       "                                                    text  \n",
       "0      im getting on borderlands and i will murder yo...  \n",
       "1      I am coming to the borders and I will kill you...  \n",
       "2      im getting on borderlands and i will kill you ...  \n",
       "3      im coming on borderlands and i will murder you...  \n",
       "4      im getting on borderlands 2 and i will murder ...  \n",
       "...                                                  ...  \n",
       "74677  Just realized that the Windows partition of my...  \n",
       "74678  Just realized that my Mac window partition is ...  \n",
       "74679  Just realized the windows partition of my Mac ...  \n",
       "74680  Just realized between the windows partition of...  \n",
       "74681  Just like the windows partition of my Mac is l...  \n",
       "\n",
       "[74682 rows x 4 columns]"
      ]
     },
     "execution_count": 2,
     "metadata": {},
     "output_type": "execute_result"
    }
   ],
   "source": [
    "columns = ['id', 'country', 'label', 'text']\n",
    "df = pd.read_csv('/kaggle/input/twitter-entity-sentiment-analysis/twitter_training.csv', names= columns)\n",
    "df"
   ]
  },
  {
   "cell_type": "code",
   "execution_count": 3,
   "id": "95dbceec",
   "metadata": {
    "execution": {
     "iopub.execute_input": "2024-09-05T17:47:14.398159Z",
     "iopub.status.busy": "2024-09-05T17:47:14.397197Z",
     "iopub.status.idle": "2024-09-05T17:47:14.404839Z",
     "shell.execute_reply": "2024-09-05T17:47:14.403636Z"
    },
    "papermill": {
     "duration": 0.024897,
     "end_time": "2024-09-05T17:47:14.407592",
     "exception": false,
     "start_time": "2024-09-05T17:47:14.382695",
     "status": "completed"
    },
    "tags": []
   },
   "outputs": [
    {
     "data": {
      "text/plain": [
       "(74682, 4)"
      ]
     },
     "execution_count": 3,
     "metadata": {},
     "output_type": "execute_result"
    }
   ],
   "source": [
    "df.shape"
   ]
  },
  {
   "cell_type": "code",
   "execution_count": 4,
   "id": "9071ad56",
   "metadata": {
    "execution": {
     "iopub.execute_input": "2024-09-05T17:47:14.437685Z",
     "iopub.status.busy": "2024-09-05T17:47:14.436774Z",
     "iopub.status.idle": "2024-09-05T17:47:14.489946Z",
     "shell.execute_reply": "2024-09-05T17:47:14.488557Z"
    },
    "papermill": {
     "duration": 0.071626,
     "end_time": "2024-09-05T17:47:14.493192",
     "exception": false,
     "start_time": "2024-09-05T17:47:14.421566",
     "status": "completed"
    },
    "tags": []
   },
   "outputs": [
    {
     "name": "stdout",
     "output_type": "stream",
     "text": [
      "<class 'pandas.core.frame.DataFrame'>\n",
      "RangeIndex: 74682 entries, 0 to 74681\n",
      "Data columns (total 4 columns):\n",
      " #   Column   Non-Null Count  Dtype \n",
      "---  ------   --------------  ----- \n",
      " 0   id       74682 non-null  int64 \n",
      " 1   country  74682 non-null  object\n",
      " 2   label    74682 non-null  object\n",
      " 3   text     73996 non-null  object\n",
      "dtypes: int64(1), object(3)\n",
      "memory usage: 2.3+ MB\n"
     ]
    }
   ],
   "source": [
    "df.info()"
   ]
  },
  {
   "cell_type": "code",
   "execution_count": 5,
   "id": "9c0d4bc4",
   "metadata": {
    "execution": {
     "iopub.execute_input": "2024-09-05T17:47:14.524143Z",
     "iopub.status.busy": "2024-09-05T17:47:14.523747Z",
     "iopub.status.idle": "2024-09-05T17:47:14.544105Z",
     "shell.execute_reply": "2024-09-05T17:47:14.542797Z"
    },
    "papermill": {
     "duration": 0.038088,
     "end_time": "2024-09-05T17:47:14.546729",
     "exception": false,
     "start_time": "2024-09-05T17:47:14.508641",
     "status": "completed"
    },
    "tags": []
   },
   "outputs": [
    {
     "data": {
      "text/plain": [
       "label\n",
       "Negative      22542\n",
       "Positive      20832\n",
       "Neutral       18318\n",
       "Irrelevant    12990\n",
       "Name: count, dtype: int64"
      ]
     },
     "execution_count": 5,
     "metadata": {},
     "output_type": "execute_result"
    }
   ],
   "source": [
    "df['label'].value_counts()"
   ]
  },
  {
   "cell_type": "markdown",
   "id": "0128de9b",
   "metadata": {
    "papermill": {
     "duration": 0.01343,
     "end_time": "2024-09-05T17:47:14.573770",
     "exception": false,
     "start_time": "2024-09-05T17:47:14.560340",
     "status": "completed"
    },
    "tags": []
   },
   "source": [
    "## Showing a sample from data"
   ]
  },
  {
   "cell_type": "code",
   "execution_count": 6,
   "id": "d16c829c",
   "metadata": {
    "execution": {
     "iopub.execute_input": "2024-09-05T17:47:14.603476Z",
     "iopub.status.busy": "2024-09-05T17:47:14.602505Z",
     "iopub.status.idle": "2024-09-05T17:47:14.609141Z",
     "shell.execute_reply": "2024-09-05T17:47:14.608026Z"
    },
    "papermill": {
     "duration": 0.024984,
     "end_time": "2024-09-05T17:47:14.612310",
     "exception": false,
     "start_time": "2024-09-05T17:47:14.587326",
     "status": "completed"
    },
    "tags": []
   },
   "outputs": [
    {
     "name": "stdout",
     "output_type": "stream",
     "text": [
      "1: im getting on borderlands and i will murder you all , -> Positive\n",
      "2: I am coming to the borders and I will kill you all, -> Positive\n",
      "3: im getting on borderlands and i will kill you all, -> Positive\n",
      "4: im coming on borderlands and i will murder you all, -> Positive\n",
      "5: im getting on borderlands 2 and i will murder you me all, -> Positive\n"
     ]
    }
   ],
   "source": [
    "for i in range(5):\n",
    "    print(f\"{i+1}: {df['text'][i]} -> {df['label'][i]}\")"
   ]
  },
  {
   "cell_type": "code",
   "execution_count": 7,
   "id": "983147ee",
   "metadata": {
    "execution": {
     "iopub.execute_input": "2024-09-05T17:47:14.642770Z",
     "iopub.status.busy": "2024-09-05T17:47:14.642322Z",
     "iopub.status.idle": "2024-09-05T17:47:14.678167Z",
     "shell.execute_reply": "2024-09-05T17:47:14.676813Z"
    },
    "papermill": {
     "duration": 0.054232,
     "end_time": "2024-09-05T17:47:14.680983",
     "exception": false,
     "start_time": "2024-09-05T17:47:14.626751",
     "status": "completed"
    },
    "tags": []
   },
   "outputs": [
    {
     "data": {
      "text/plain": [
       "id           0\n",
       "country      0\n",
       "label        0\n",
       "text       686\n",
       "dtype: int64"
      ]
     },
     "execution_count": 7,
     "metadata": {},
     "output_type": "execute_result"
    }
   ],
   "source": [
    "df.isna().sum()"
   ]
  },
  {
   "cell_type": "markdown",
   "id": "d528b03d",
   "metadata": {
    "papermill": {
     "duration": 0.013904,
     "end_time": "2024-09-05T17:47:14.709369",
     "exception": false,
     "start_time": "2024-09-05T17:47:14.695465",
     "status": "completed"
    },
    "tags": []
   },
   "source": [
    "# Preprocessing"
   ]
  },
  {
   "cell_type": "code",
   "execution_count": 8,
   "id": "080d2c2d",
   "metadata": {
    "execution": {
     "iopub.execute_input": "2024-09-05T17:47:14.739902Z",
     "iopub.status.busy": "2024-09-05T17:47:14.739453Z",
     "iopub.status.idle": "2024-09-05T17:47:14.780900Z",
     "shell.execute_reply": "2024-09-05T17:47:14.779513Z"
    },
    "papermill": {
     "duration": 0.060048,
     "end_time": "2024-09-05T17:47:14.783804",
     "exception": false,
     "start_time": "2024-09-05T17:47:14.723756",
     "status": "completed"
    },
    "tags": []
   },
   "outputs": [],
   "source": [
    "df.dropna(inplace= True)"
   ]
  },
  {
   "cell_type": "code",
   "execution_count": 9,
   "id": "cb36ed6e",
   "metadata": {
    "execution": {
     "iopub.execute_input": "2024-09-05T17:47:14.813441Z",
     "iopub.status.busy": "2024-09-05T17:47:14.813054Z",
     "iopub.status.idle": "2024-09-05T17:47:16.500646Z",
     "shell.execute_reply": "2024-09-05T17:47:16.499163Z"
    },
    "papermill": {
     "duration": 1.706134,
     "end_time": "2024-09-05T17:47:16.503734",
     "exception": false,
     "start_time": "2024-09-05T17:47:14.797600",
     "status": "completed"
    },
    "tags": []
   },
   "outputs": [],
   "source": [
    "# load english language model and create nlp object from it\n",
    "nlp = spacy.load(\"en_core_web_sm\")"
   ]
  },
  {
   "cell_type": "markdown",
   "id": "a10d7f10",
   "metadata": {
    "papermill": {
     "duration": 0.013825,
     "end_time": "2024-09-05T17:47:16.534901",
     "exception": false,
     "start_time": "2024-09-05T17:47:16.521076",
     "status": "completed"
    },
    "tags": []
   },
   "source": [
    "## Intialize Preprocess Function"
   ]
  },
  {
   "cell_type": "code",
   "execution_count": 10,
   "id": "a043663b",
   "metadata": {
    "execution": {
     "iopub.execute_input": "2024-09-05T17:47:16.566468Z",
     "iopub.status.busy": "2024-09-05T17:47:16.565987Z",
     "iopub.status.idle": "2024-09-05T17:47:16.573256Z",
     "shell.execute_reply": "2024-09-05T17:47:16.571928Z"
    },
    "papermill": {
     "duration": 0.026956,
     "end_time": "2024-09-05T17:47:16.576182",
     "exception": false,
     "start_time": "2024-09-05T17:47:16.549226",
     "status": "completed"
    },
    "tags": []
   },
   "outputs": [],
   "source": [
    "def preprocess(text):\n",
    "    doc = nlp(text)\n",
    "    filtered_token = []\n",
    "    for token in doc:\n",
    "        if token.is_stop or token.is_punct:\n",
    "            continue\n",
    "        filtered_token.append(token.lemma_)\n",
    "    return \" \".join(filtered_token)"
   ]
  },
  {
   "cell_type": "markdown",
   "id": "d3b686cf",
   "metadata": {
    "papermill": {
     "duration": 0.01373,
     "end_time": "2024-09-05T17:47:16.603801",
     "exception": false,
     "start_time": "2024-09-05T17:47:16.590071",
     "status": "completed"
    },
    "tags": []
   },
   "source": [
    "## Showing Sample after Preprocessing"
   ]
  },
  {
   "cell_type": "code",
   "execution_count": 11,
   "id": "067d150b",
   "metadata": {
    "execution": {
     "iopub.execute_input": "2024-09-05T17:47:16.635393Z",
     "iopub.status.busy": "2024-09-05T17:47:16.634850Z",
     "iopub.status.idle": "2024-09-05T17:47:16.673252Z",
     "shell.execute_reply": "2024-09-05T17:47:16.671988Z"
    },
    "papermill": {
     "duration": 0.058357,
     "end_time": "2024-09-05T17:47:16.676124",
     "exception": false,
     "start_time": "2024-09-05T17:47:16.617767",
     "status": "completed"
    },
    "tags": []
   },
   "outputs": [
    {
     "name": "stdout",
     "output_type": "stream",
     "text": [
      "im getting on borderlands and i will murder you all ,\n",
      "m get borderland murder\n"
     ]
    }
   ],
   "source": [
    "txt = df['text'][0]\n",
    "print(txt)\n",
    "process = preprocess(txt)\n",
    "print(process)"
   ]
  },
  {
   "cell_type": "markdown",
   "id": "e2335477",
   "metadata": {
    "papermill": {
     "duration": 0.014191,
     "end_time": "2024-09-05T17:47:16.704245",
     "exception": false,
     "start_time": "2024-09-05T17:47:16.690054",
     "status": "completed"
    },
    "tags": []
   },
   "source": [
    "## Applying Preprocess_func to all data"
   ]
  },
  {
   "cell_type": "code",
   "execution_count": 12,
   "id": "b2f057de",
   "metadata": {
    "execution": {
     "iopub.execute_input": "2024-09-05T17:47:16.734497Z",
     "iopub.status.busy": "2024-09-05T17:47:16.733647Z",
     "iopub.status.idle": "2024-09-05T18:00:28.431027Z",
     "shell.execute_reply": "2024-09-05T18:00:28.429617Z"
    },
    "papermill": {
     "duration": 791.729369,
     "end_time": "2024-09-05T18:00:28.447536",
     "exception": false,
     "start_time": "2024-09-05T17:47:16.718167",
     "status": "completed"
    },
    "tags": []
   },
   "outputs": [
    {
     "data": {
      "text/html": [
       "<div>\n",
       "<style scoped>\n",
       "    .dataframe tbody tr th:only-of-type {\n",
       "        vertical-align: middle;\n",
       "    }\n",
       "\n",
       "    .dataframe tbody tr th {\n",
       "        vertical-align: top;\n",
       "    }\n",
       "\n",
       "    .dataframe thead th {\n",
       "        text-align: right;\n",
       "    }\n",
       "</style>\n",
       "<table border=\"1\" class=\"dataframe\">\n",
       "  <thead>\n",
       "    <tr style=\"text-align: right;\">\n",
       "      <th></th>\n",
       "      <th>id</th>\n",
       "      <th>country</th>\n",
       "      <th>label</th>\n",
       "      <th>text</th>\n",
       "      <th>preprocessed_text</th>\n",
       "    </tr>\n",
       "  </thead>\n",
       "  <tbody>\n",
       "    <tr>\n",
       "      <th>0</th>\n",
       "      <td>2401</td>\n",
       "      <td>Borderlands</td>\n",
       "      <td>Positive</td>\n",
       "      <td>im getting on borderlands and i will murder yo...</td>\n",
       "      <td>m get borderland murder</td>\n",
       "    </tr>\n",
       "    <tr>\n",
       "      <th>1</th>\n",
       "      <td>2401</td>\n",
       "      <td>Borderlands</td>\n",
       "      <td>Positive</td>\n",
       "      <td>I am coming to the borders and I will kill you...</td>\n",
       "      <td>come border kill</td>\n",
       "    </tr>\n",
       "    <tr>\n",
       "      <th>2</th>\n",
       "      <td>2401</td>\n",
       "      <td>Borderlands</td>\n",
       "      <td>Positive</td>\n",
       "      <td>im getting on borderlands and i will kill you ...</td>\n",
       "      <td>m get borderland kill</td>\n",
       "    </tr>\n",
       "    <tr>\n",
       "      <th>3</th>\n",
       "      <td>2401</td>\n",
       "      <td>Borderlands</td>\n",
       "      <td>Positive</td>\n",
       "      <td>im coming on borderlands and i will murder you...</td>\n",
       "      <td>m come borderland murder</td>\n",
       "    </tr>\n",
       "    <tr>\n",
       "      <th>4</th>\n",
       "      <td>2401</td>\n",
       "      <td>Borderlands</td>\n",
       "      <td>Positive</td>\n",
       "      <td>im getting on borderlands 2 and i will murder ...</td>\n",
       "      <td>m get borderland 2 murder</td>\n",
       "    </tr>\n",
       "    <tr>\n",
       "      <th>...</th>\n",
       "      <td>...</td>\n",
       "      <td>...</td>\n",
       "      <td>...</td>\n",
       "      <td>...</td>\n",
       "      <td>...</td>\n",
       "    </tr>\n",
       "    <tr>\n",
       "      <th>74677</th>\n",
       "      <td>9200</td>\n",
       "      <td>Nvidia</td>\n",
       "      <td>Positive</td>\n",
       "      <td>Just realized that the Windows partition of my...</td>\n",
       "      <td>realize Windows partition Mac like 6 year Nvid...</td>\n",
       "    </tr>\n",
       "    <tr>\n",
       "      <th>74678</th>\n",
       "      <td>9200</td>\n",
       "      <td>Nvidia</td>\n",
       "      <td>Positive</td>\n",
       "      <td>Just realized that my Mac window partition is ...</td>\n",
       "      <td>realize Mac window partition 6 year Nvidia dri...</td>\n",
       "    </tr>\n",
       "    <tr>\n",
       "      <th>74679</th>\n",
       "      <td>9200</td>\n",
       "      <td>Nvidia</td>\n",
       "      <td>Positive</td>\n",
       "      <td>Just realized the windows partition of my Mac ...</td>\n",
       "      <td>realize window partition Mac 6 year Nvidia dri...</td>\n",
       "    </tr>\n",
       "    <tr>\n",
       "      <th>74680</th>\n",
       "      <td>9200</td>\n",
       "      <td>Nvidia</td>\n",
       "      <td>Positive</td>\n",
       "      <td>Just realized between the windows partition of...</td>\n",
       "      <td>realize window partition Mac like 6 year Nvidi...</td>\n",
       "    </tr>\n",
       "    <tr>\n",
       "      <th>74681</th>\n",
       "      <td>9200</td>\n",
       "      <td>Nvidia</td>\n",
       "      <td>Positive</td>\n",
       "      <td>Just like the windows partition of my Mac is l...</td>\n",
       "      <td>like window partition Mac like 6 year driver i...</td>\n",
       "    </tr>\n",
       "  </tbody>\n",
       "</table>\n",
       "<p>73996 rows × 5 columns</p>\n",
       "</div>"
      ],
      "text/plain": [
       "         id      country     label  \\\n",
       "0      2401  Borderlands  Positive   \n",
       "1      2401  Borderlands  Positive   \n",
       "2      2401  Borderlands  Positive   \n",
       "3      2401  Borderlands  Positive   \n",
       "4      2401  Borderlands  Positive   \n",
       "...     ...          ...       ...   \n",
       "74677  9200       Nvidia  Positive   \n",
       "74678  9200       Nvidia  Positive   \n",
       "74679  9200       Nvidia  Positive   \n",
       "74680  9200       Nvidia  Positive   \n",
       "74681  9200       Nvidia  Positive   \n",
       "\n",
       "                                                    text  \\\n",
       "0      im getting on borderlands and i will murder yo...   \n",
       "1      I am coming to the borders and I will kill you...   \n",
       "2      im getting on borderlands and i will kill you ...   \n",
       "3      im coming on borderlands and i will murder you...   \n",
       "4      im getting on borderlands 2 and i will murder ...   \n",
       "...                                                  ...   \n",
       "74677  Just realized that the Windows partition of my...   \n",
       "74678  Just realized that my Mac window partition is ...   \n",
       "74679  Just realized the windows partition of my Mac ...   \n",
       "74680  Just realized between the windows partition of...   \n",
       "74681  Just like the windows partition of my Mac is l...   \n",
       "\n",
       "                                       preprocessed_text  \n",
       "0                                m get borderland murder  \n",
       "1                                       come border kill  \n",
       "2                                  m get borderland kill  \n",
       "3                               m come borderland murder  \n",
       "4                              m get borderland 2 murder  \n",
       "...                                                  ...  \n",
       "74677  realize Windows partition Mac like 6 year Nvid...  \n",
       "74678  realize Mac window partition 6 year Nvidia dri...  \n",
       "74679  realize window partition Mac 6 year Nvidia dri...  \n",
       "74680  realize window partition Mac like 6 year Nvidi...  \n",
       "74681  like window partition Mac like 6 year driver i...  \n",
       "\n",
       "[73996 rows x 5 columns]"
      ]
     },
     "execution_count": 12,
     "metadata": {},
     "output_type": "execute_result"
    }
   ],
   "source": [
    "df['preprocessed_text'] = df['text'].apply(preprocess)\n",
    "df"
   ]
  },
  {
   "cell_type": "markdown",
   "id": "f4f2b685",
   "metadata": {
    "papermill": {
     "duration": 0.014746,
     "end_time": "2024-09-05T18:00:28.476527",
     "exception": false,
     "start_time": "2024-09-05T18:00:28.461781",
     "status": "completed"
    },
    "tags": []
   },
   "source": [
    "## Encoding target column"
   ]
  },
  {
   "cell_type": "code",
   "execution_count": 13,
   "id": "03740267",
   "metadata": {
    "execution": {
     "iopub.execute_input": "2024-09-05T18:00:28.507304Z",
     "iopub.status.busy": "2024-09-05T18:00:28.506885Z",
     "iopub.status.idle": "2024-09-05T18:00:28.533975Z",
     "shell.execute_reply": "2024-09-05T18:00:28.532746Z"
    },
    "papermill": {
     "duration": 0.046013,
     "end_time": "2024-09-05T18:00:28.536830",
     "exception": false,
     "start_time": "2024-09-05T18:00:28.490817",
     "status": "completed"
    },
    "tags": []
   },
   "outputs": [],
   "source": [
    "le_model = LabelEncoder()\n",
    "df['label'] = le_model.fit_transform(df['label'])"
   ]
  },
  {
   "cell_type": "code",
   "execution_count": 14,
   "id": "96740c5e",
   "metadata": {
    "execution": {
     "iopub.execute_input": "2024-09-05T18:00:28.567473Z",
     "iopub.status.busy": "2024-09-05T18:00:28.567054Z",
     "iopub.status.idle": "2024-09-05T18:00:28.580730Z",
     "shell.execute_reply": "2024-09-05T18:00:28.579447Z"
    },
    "papermill": {
     "duration": 0.032163,
     "end_time": "2024-09-05T18:00:28.583435",
     "exception": false,
     "start_time": "2024-09-05T18:00:28.551272",
     "status": "completed"
    },
    "tags": []
   },
   "outputs": [
    {
     "data": {
      "text/html": [
       "<div>\n",
       "<style scoped>\n",
       "    .dataframe tbody tr th:only-of-type {\n",
       "        vertical-align: middle;\n",
       "    }\n",
       "\n",
       "    .dataframe tbody tr th {\n",
       "        vertical-align: top;\n",
       "    }\n",
       "\n",
       "    .dataframe thead th {\n",
       "        text-align: right;\n",
       "    }\n",
       "</style>\n",
       "<table border=\"1\" class=\"dataframe\">\n",
       "  <thead>\n",
       "    <tr style=\"text-align: right;\">\n",
       "      <th></th>\n",
       "      <th>id</th>\n",
       "      <th>country</th>\n",
       "      <th>label</th>\n",
       "      <th>text</th>\n",
       "      <th>preprocessed_text</th>\n",
       "    </tr>\n",
       "  </thead>\n",
       "  <tbody>\n",
       "    <tr>\n",
       "      <th>0</th>\n",
       "      <td>2401</td>\n",
       "      <td>Borderlands</td>\n",
       "      <td>3</td>\n",
       "      <td>im getting on borderlands and i will murder yo...</td>\n",
       "      <td>m get borderland murder</td>\n",
       "    </tr>\n",
       "    <tr>\n",
       "      <th>1</th>\n",
       "      <td>2401</td>\n",
       "      <td>Borderlands</td>\n",
       "      <td>3</td>\n",
       "      <td>I am coming to the borders and I will kill you...</td>\n",
       "      <td>come border kill</td>\n",
       "    </tr>\n",
       "    <tr>\n",
       "      <th>2</th>\n",
       "      <td>2401</td>\n",
       "      <td>Borderlands</td>\n",
       "      <td>3</td>\n",
       "      <td>im getting on borderlands and i will kill you ...</td>\n",
       "      <td>m get borderland kill</td>\n",
       "    </tr>\n",
       "    <tr>\n",
       "      <th>3</th>\n",
       "      <td>2401</td>\n",
       "      <td>Borderlands</td>\n",
       "      <td>3</td>\n",
       "      <td>im coming on borderlands and i will murder you...</td>\n",
       "      <td>m come borderland murder</td>\n",
       "    </tr>\n",
       "    <tr>\n",
       "      <th>4</th>\n",
       "      <td>2401</td>\n",
       "      <td>Borderlands</td>\n",
       "      <td>3</td>\n",
       "      <td>im getting on borderlands 2 and i will murder ...</td>\n",
       "      <td>m get borderland 2 murder</td>\n",
       "    </tr>\n",
       "  </tbody>\n",
       "</table>\n",
       "</div>"
      ],
      "text/plain": [
       "     id      country  label  \\\n",
       "0  2401  Borderlands      3   \n",
       "1  2401  Borderlands      3   \n",
       "2  2401  Borderlands      3   \n",
       "3  2401  Borderlands      3   \n",
       "4  2401  Borderlands      3   \n",
       "\n",
       "                                                text  \\\n",
       "0  im getting on borderlands and i will murder yo...   \n",
       "1  I am coming to the borders and I will kill you...   \n",
       "2  im getting on borderlands and i will kill you ...   \n",
       "3  im coming on borderlands and i will murder you...   \n",
       "4  im getting on borderlands 2 and i will murder ...   \n",
       "\n",
       "           preprocessed_text  \n",
       "0    m get borderland murder  \n",
       "1           come border kill  \n",
       "2      m get borderland kill  \n",
       "3   m come borderland murder  \n",
       "4  m get borderland 2 murder  "
      ]
     },
     "execution_count": 14,
     "metadata": {},
     "output_type": "execute_result"
    }
   ],
   "source": [
    "df.head()"
   ]
  },
  {
   "cell_type": "markdown",
   "id": "ce538c07",
   "metadata": {
    "papermill": {
     "duration": 0.014868,
     "end_time": "2024-09-05T18:00:28.613345",
     "exception": false,
     "start_time": "2024-09-05T18:00:28.598477",
     "status": "completed"
    },
    "tags": []
   },
   "source": [
    "## Spliting data into train and test"
   ]
  },
  {
   "cell_type": "code",
   "execution_count": 15,
   "id": "c28d1899",
   "metadata": {
    "execution": {
     "iopub.execute_input": "2024-09-05T18:00:28.647371Z",
     "iopub.status.busy": "2024-09-05T18:00:28.645705Z",
     "iopub.status.idle": "2024-09-05T18:00:28.697589Z",
     "shell.execute_reply": "2024-09-05T18:00:28.696150Z"
    },
    "papermill": {
     "duration": 0.072211,
     "end_time": "2024-09-05T18:00:28.701063",
     "exception": false,
     "start_time": "2024-09-05T18:00:28.628852",
     "status": "completed"
    },
    "tags": []
   },
   "outputs": [],
   "source": [
    "x_train, x_test, y_train, y_test = train_test_split(df['preprocessed_text'], df['label'], \n",
    "                                                    test_size=0.2, random_state=42, stratify=df['label'])"
   ]
  },
  {
   "cell_type": "code",
   "execution_count": 16,
   "id": "4515a8d2",
   "metadata": {
    "execution": {
     "iopub.execute_input": "2024-09-05T18:00:28.733254Z",
     "iopub.status.busy": "2024-09-05T18:00:28.732809Z",
     "iopub.status.idle": "2024-09-05T18:00:28.739708Z",
     "shell.execute_reply": "2024-09-05T18:00:28.738635Z"
    },
    "papermill": {
     "duration": 0.027103,
     "end_time": "2024-09-05T18:00:28.743080",
     "exception": false,
     "start_time": "2024-09-05T18:00:28.715977",
     "status": "completed"
    },
    "tags": []
   },
   "outputs": [
    {
     "name": "stdout",
     "output_type": "stream",
     "text": [
      "Shape of X_train:  (59196,)\n",
      "Shape of X_test:  (14800,)\n",
      "Shape of Y_train:  (59196,)\n",
      "Shape of Y_test:  (14800,)\n"
     ]
    }
   ],
   "source": [
    "print(\"Shape of X_train: \", x_train.shape)\n",
    "print(\"Shape of X_test: \", x_test.shape)\n",
    "print(\"Shape of Y_train: \", y_train.shape)\n",
    "print(\"Shape of Y_test: \", y_test.shape)"
   ]
  },
  {
   "cell_type": "markdown",
   "id": "0b1c653a",
   "metadata": {
    "papermill": {
     "duration": 0.014603,
     "end_time": "2024-09-05T18:00:28.772873",
     "exception": false,
     "start_time": "2024-09-05T18:00:28.758270",
     "status": "completed"
    },
    "tags": []
   },
   "source": [
    "# Machine Learning Model"
   ]
  },
  {
   "cell_type": "markdown",
   "id": "8877d1f2",
   "metadata": {
    "papermill": {
     "duration": 0.014373,
     "end_time": "2024-09-05T18:00:28.802180",
     "exception": false,
     "start_time": "2024-09-05T18:00:28.787807",
     "status": "completed"
    },
    "tags": []
   },
   "source": [
    "## Multinomial Naive Bayes"
   ]
  },
  {
   "cell_type": "code",
   "execution_count": 17,
   "id": "b001e06c",
   "metadata": {
    "execution": {
     "iopub.execute_input": "2024-09-05T18:00:28.833530Z",
     "iopub.status.busy": "2024-09-05T18:00:28.833119Z",
     "iopub.status.idle": "2024-09-05T18:00:28.839443Z",
     "shell.execute_reply": "2024-09-05T18:00:28.838115Z"
    },
    "papermill": {
     "duration": 0.025369,
     "end_time": "2024-09-05T18:00:28.842376",
     "exception": false,
     "start_time": "2024-09-05T18:00:28.817007",
     "status": "completed"
    },
    "tags": []
   },
   "outputs": [],
   "source": [
    "# Creating Classifier\n",
    "clf = Pipeline([\n",
    "    ('vectorizer_tri_grams', TfidfVectorizer()),\n",
    "    ('naive_bayes', (MultinomialNB()))         \n",
    "])"
   ]
  },
  {
   "cell_type": "code",
   "execution_count": 18,
   "id": "d0ad0477",
   "metadata": {
    "execution": {
     "iopub.execute_input": "2024-09-05T18:00:28.875643Z",
     "iopub.status.busy": "2024-09-05T18:00:28.875236Z",
     "iopub.status.idle": "2024-09-05T18:00:30.155432Z",
     "shell.execute_reply": "2024-09-05T18:00:30.154161Z"
    },
    "papermill": {
     "duration": 1.301107,
     "end_time": "2024-09-05T18:00:30.158185",
     "exception": false,
     "start_time": "2024-09-05T18:00:28.857078",
     "status": "completed"
    },
    "tags": []
   },
   "outputs": [
    {
     "data": {
      "text/html": [
       "<style>#sk-container-id-1 {color: black;background-color: white;}#sk-container-id-1 pre{padding: 0;}#sk-container-id-1 div.sk-toggleable {background-color: white;}#sk-container-id-1 label.sk-toggleable__label {cursor: pointer;display: block;width: 100%;margin-bottom: 0;padding: 0.3em;box-sizing: border-box;text-align: center;}#sk-container-id-1 label.sk-toggleable__label-arrow:before {content: \"▸\";float: left;margin-right: 0.25em;color: #696969;}#sk-container-id-1 label.sk-toggleable__label-arrow:hover:before {color: black;}#sk-container-id-1 div.sk-estimator:hover label.sk-toggleable__label-arrow:before {color: black;}#sk-container-id-1 div.sk-toggleable__content {max-height: 0;max-width: 0;overflow: hidden;text-align: left;background-color: #f0f8ff;}#sk-container-id-1 div.sk-toggleable__content pre {margin: 0.2em;color: black;border-radius: 0.25em;background-color: #f0f8ff;}#sk-container-id-1 input.sk-toggleable__control:checked~div.sk-toggleable__content {max-height: 200px;max-width: 100%;overflow: auto;}#sk-container-id-1 input.sk-toggleable__control:checked~label.sk-toggleable__label-arrow:before {content: \"▾\";}#sk-container-id-1 div.sk-estimator input.sk-toggleable__control:checked~label.sk-toggleable__label {background-color: #d4ebff;}#sk-container-id-1 div.sk-label input.sk-toggleable__control:checked~label.sk-toggleable__label {background-color: #d4ebff;}#sk-container-id-1 input.sk-hidden--visually {border: 0;clip: rect(1px 1px 1px 1px);clip: rect(1px, 1px, 1px, 1px);height: 1px;margin: -1px;overflow: hidden;padding: 0;position: absolute;width: 1px;}#sk-container-id-1 div.sk-estimator {font-family: monospace;background-color: #f0f8ff;border: 1px dotted black;border-radius: 0.25em;box-sizing: border-box;margin-bottom: 0.5em;}#sk-container-id-1 div.sk-estimator:hover {background-color: #d4ebff;}#sk-container-id-1 div.sk-parallel-item::after {content: \"\";width: 100%;border-bottom: 1px solid gray;flex-grow: 1;}#sk-container-id-1 div.sk-label:hover label.sk-toggleable__label {background-color: #d4ebff;}#sk-container-id-1 div.sk-serial::before {content: \"\";position: absolute;border-left: 1px solid gray;box-sizing: border-box;top: 0;bottom: 0;left: 50%;z-index: 0;}#sk-container-id-1 div.sk-serial {display: flex;flex-direction: column;align-items: center;background-color: white;padding-right: 0.2em;padding-left: 0.2em;position: relative;}#sk-container-id-1 div.sk-item {position: relative;z-index: 1;}#sk-container-id-1 div.sk-parallel {display: flex;align-items: stretch;justify-content: center;background-color: white;position: relative;}#sk-container-id-1 div.sk-item::before, #sk-container-id-1 div.sk-parallel-item::before {content: \"\";position: absolute;border-left: 1px solid gray;box-sizing: border-box;top: 0;bottom: 0;left: 50%;z-index: -1;}#sk-container-id-1 div.sk-parallel-item {display: flex;flex-direction: column;z-index: 1;position: relative;background-color: white;}#sk-container-id-1 div.sk-parallel-item:first-child::after {align-self: flex-end;width: 50%;}#sk-container-id-1 div.sk-parallel-item:last-child::after {align-self: flex-start;width: 50%;}#sk-container-id-1 div.sk-parallel-item:only-child::after {width: 0;}#sk-container-id-1 div.sk-dashed-wrapped {border: 1px dashed gray;margin: 0 0.4em 0.5em 0.4em;box-sizing: border-box;padding-bottom: 0.4em;background-color: white;}#sk-container-id-1 div.sk-label label {font-family: monospace;font-weight: bold;display: inline-block;line-height: 1.2em;}#sk-container-id-1 div.sk-label-container {text-align: center;}#sk-container-id-1 div.sk-container {/* jupyter's `normalize.less` sets `[hidden] { display: none; }` but bootstrap.min.css set `[hidden] { display: none !important; }` so we also need the `!important` here to be able to override the default hidden behavior on the sphinx rendered scikit-learn.org. See: https://github.com/scikit-learn/scikit-learn/issues/21755 */display: inline-block !important;position: relative;}#sk-container-id-1 div.sk-text-repr-fallback {display: none;}</style><div id=\"sk-container-id-1\" class=\"sk-top-container\"><div class=\"sk-text-repr-fallback\"><pre>Pipeline(steps=[(&#x27;vectorizer_tri_grams&#x27;, TfidfVectorizer()),\n",
       "                (&#x27;naive_bayes&#x27;, MultinomialNB())])</pre><b>In a Jupyter environment, please rerun this cell to show the HTML representation or trust the notebook. <br />On GitHub, the HTML representation is unable to render, please try loading this page with nbviewer.org.</b></div><div class=\"sk-container\" hidden><div class=\"sk-item sk-dashed-wrapped\"><div class=\"sk-label-container\"><div class=\"sk-label sk-toggleable\"><input class=\"sk-toggleable__control sk-hidden--visually\" id=\"sk-estimator-id-1\" type=\"checkbox\" ><label for=\"sk-estimator-id-1\" class=\"sk-toggleable__label sk-toggleable__label-arrow\">Pipeline</label><div class=\"sk-toggleable__content\"><pre>Pipeline(steps=[(&#x27;vectorizer_tri_grams&#x27;, TfidfVectorizer()),\n",
       "                (&#x27;naive_bayes&#x27;, MultinomialNB())])</pre></div></div></div><div class=\"sk-serial\"><div class=\"sk-item\"><div class=\"sk-estimator sk-toggleable\"><input class=\"sk-toggleable__control sk-hidden--visually\" id=\"sk-estimator-id-2\" type=\"checkbox\" ><label for=\"sk-estimator-id-2\" class=\"sk-toggleable__label sk-toggleable__label-arrow\">TfidfVectorizer</label><div class=\"sk-toggleable__content\"><pre>TfidfVectorizer()</pre></div></div></div><div class=\"sk-item\"><div class=\"sk-estimator sk-toggleable\"><input class=\"sk-toggleable__control sk-hidden--visually\" id=\"sk-estimator-id-3\" type=\"checkbox\" ><label for=\"sk-estimator-id-3\" class=\"sk-toggleable__label sk-toggleable__label-arrow\">MultinomialNB</label><div class=\"sk-toggleable__content\"><pre>MultinomialNB()</pre></div></div></div></div></div></div></div>"
      ],
      "text/plain": [
       "Pipeline(steps=[('vectorizer_tri_grams', TfidfVectorizer()),\n",
       "                ('naive_bayes', MultinomialNB())])"
      ]
     },
     "execution_count": 18,
     "metadata": {},
     "output_type": "execute_result"
    }
   ],
   "source": [
    "clf.fit(x_train, y_train)"
   ]
  },
  {
   "cell_type": "code",
   "execution_count": 19,
   "id": "c6debc0c",
   "metadata": {
    "execution": {
     "iopub.execute_input": "2024-09-05T18:00:30.260758Z",
     "iopub.status.busy": "2024-09-05T18:00:30.260350Z",
     "iopub.status.idle": "2024-09-05T18:00:30.553413Z",
     "shell.execute_reply": "2024-09-05T18:00:30.552313Z"
    },
    "papermill": {
     "duration": 0.314497,
     "end_time": "2024-09-05T18:00:30.556221",
     "exception": false,
     "start_time": "2024-09-05T18:00:30.241724",
     "status": "completed"
    },
    "tags": []
   },
   "outputs": [],
   "source": [
    "# Get predictions\n",
    "y_pred = clf.predict(x_test)"
   ]
  },
  {
   "cell_type": "code",
   "execution_count": 20,
   "id": "22a56ee4",
   "metadata": {
    "execution": {
     "iopub.execute_input": "2024-09-05T18:00:30.589250Z",
     "iopub.status.busy": "2024-09-05T18:00:30.588829Z",
     "iopub.status.idle": "2024-09-05T18:00:30.597834Z",
     "shell.execute_reply": "2024-09-05T18:00:30.596386Z"
    },
    "papermill": {
     "duration": 0.028338,
     "end_time": "2024-09-05T18:00:30.600479",
     "exception": false,
     "start_time": "2024-09-05T18:00:30.572141",
     "status": "completed"
    },
    "tags": []
   },
   "outputs": [
    {
     "name": "stdout",
     "output_type": "stream",
     "text": [
      "0.7312837837837838\n"
     ]
    }
   ],
   "source": [
    "# Print score\n",
    "print(accuracy_score(y_test, y_pred))"
   ]
  },
  {
   "cell_type": "code",
   "execution_count": 21,
   "id": "6ee63635",
   "metadata": {
    "execution": {
     "iopub.execute_input": "2024-09-05T18:00:30.633061Z",
     "iopub.status.busy": "2024-09-05T18:00:30.632581Z",
     "iopub.status.idle": "2024-09-05T18:00:30.674831Z",
     "shell.execute_reply": "2024-09-05T18:00:30.673338Z"
    },
    "papermill": {
     "duration": 0.061773,
     "end_time": "2024-09-05T18:00:30.677600",
     "exception": false,
     "start_time": "2024-09-05T18:00:30.615827",
     "status": "completed"
    },
    "tags": []
   },
   "outputs": [
    {
     "name": "stdout",
     "output_type": "stream",
     "text": [
      "              precision    recall  f1-score   support\n",
      "\n",
      "           0       0.95      0.46      0.62      2575\n",
      "           1       0.65      0.90      0.76      4472\n",
      "           2       0.84      0.63      0.72      3622\n",
      "           3       0.71      0.81      0.76      4131\n",
      "\n",
      "    accuracy                           0.73     14800\n",
      "   macro avg       0.79      0.70      0.71     14800\n",
      "weighted avg       0.77      0.73      0.72     14800\n",
      "\n"
     ]
    }
   ],
   "source": [
    "# Print classification report\n",
    "print(classification_report(y_test, y_pred))"
   ]
  },
  {
   "cell_type": "markdown",
   "id": "a2700940",
   "metadata": {
    "papermill": {
     "duration": 0.015242,
     "end_time": "2024-09-05T18:00:30.708581",
     "exception": false,
     "start_time": "2024-09-05T18:00:30.693339",
     "status": "completed"
    },
    "tags": []
   },
   "source": [
    "## Random Forest Classifier"
   ]
  },
  {
   "cell_type": "code",
   "execution_count": 22,
   "id": "dc47661d",
   "metadata": {
    "execution": {
     "iopub.execute_input": "2024-09-05T18:00:30.741188Z",
     "iopub.status.busy": "2024-09-05T18:00:30.740776Z",
     "iopub.status.idle": "2024-09-05T18:00:30.746682Z",
     "shell.execute_reply": "2024-09-05T18:00:30.745308Z"
    },
    "papermill": {
     "duration": 0.025208,
     "end_time": "2024-09-05T18:00:30.749217",
     "exception": false,
     "start_time": "2024-09-05T18:00:30.724009",
     "status": "completed"
    },
    "tags": []
   },
   "outputs": [],
   "source": [
    "clf = Pipeline([\n",
    "    ('vectorizer_tri_grams', TfidfVectorizer()),\n",
    "    ('naive_bayes', (RandomForestClassifier()))         \n",
    "])"
   ]
  },
  {
   "cell_type": "code",
   "execution_count": 23,
   "id": "dcf834d6",
   "metadata": {
    "execution": {
     "iopub.execute_input": "2024-09-05T18:00:30.784124Z",
     "iopub.status.busy": "2024-09-05T18:00:30.783698Z",
     "iopub.status.idle": "2024-09-05T18:04:33.076686Z",
     "shell.execute_reply": "2024-09-05T18:04:33.075291Z"
    },
    "papermill": {
     "duration": 242.329885,
     "end_time": "2024-09-05T18:04:33.095122",
     "exception": false,
     "start_time": "2024-09-05T18:00:30.765237",
     "status": "completed"
    },
    "tags": []
   },
   "outputs": [
    {
     "data": {
      "text/html": [
       "<style>#sk-container-id-2 {color: black;background-color: white;}#sk-container-id-2 pre{padding: 0;}#sk-container-id-2 div.sk-toggleable {background-color: white;}#sk-container-id-2 label.sk-toggleable__label {cursor: pointer;display: block;width: 100%;margin-bottom: 0;padding: 0.3em;box-sizing: border-box;text-align: center;}#sk-container-id-2 label.sk-toggleable__label-arrow:before {content: \"▸\";float: left;margin-right: 0.25em;color: #696969;}#sk-container-id-2 label.sk-toggleable__label-arrow:hover:before {color: black;}#sk-container-id-2 div.sk-estimator:hover label.sk-toggleable__label-arrow:before {color: black;}#sk-container-id-2 div.sk-toggleable__content {max-height: 0;max-width: 0;overflow: hidden;text-align: left;background-color: #f0f8ff;}#sk-container-id-2 div.sk-toggleable__content pre {margin: 0.2em;color: black;border-radius: 0.25em;background-color: #f0f8ff;}#sk-container-id-2 input.sk-toggleable__control:checked~div.sk-toggleable__content {max-height: 200px;max-width: 100%;overflow: auto;}#sk-container-id-2 input.sk-toggleable__control:checked~label.sk-toggleable__label-arrow:before {content: \"▾\";}#sk-container-id-2 div.sk-estimator input.sk-toggleable__control:checked~label.sk-toggleable__label {background-color: #d4ebff;}#sk-container-id-2 div.sk-label input.sk-toggleable__control:checked~label.sk-toggleable__label {background-color: #d4ebff;}#sk-container-id-2 input.sk-hidden--visually {border: 0;clip: rect(1px 1px 1px 1px);clip: rect(1px, 1px, 1px, 1px);height: 1px;margin: -1px;overflow: hidden;padding: 0;position: absolute;width: 1px;}#sk-container-id-2 div.sk-estimator {font-family: monospace;background-color: #f0f8ff;border: 1px dotted black;border-radius: 0.25em;box-sizing: border-box;margin-bottom: 0.5em;}#sk-container-id-2 div.sk-estimator:hover {background-color: #d4ebff;}#sk-container-id-2 div.sk-parallel-item::after {content: \"\";width: 100%;border-bottom: 1px solid gray;flex-grow: 1;}#sk-container-id-2 div.sk-label:hover label.sk-toggleable__label {background-color: #d4ebff;}#sk-container-id-2 div.sk-serial::before {content: \"\";position: absolute;border-left: 1px solid gray;box-sizing: border-box;top: 0;bottom: 0;left: 50%;z-index: 0;}#sk-container-id-2 div.sk-serial {display: flex;flex-direction: column;align-items: center;background-color: white;padding-right: 0.2em;padding-left: 0.2em;position: relative;}#sk-container-id-2 div.sk-item {position: relative;z-index: 1;}#sk-container-id-2 div.sk-parallel {display: flex;align-items: stretch;justify-content: center;background-color: white;position: relative;}#sk-container-id-2 div.sk-item::before, #sk-container-id-2 div.sk-parallel-item::before {content: \"\";position: absolute;border-left: 1px solid gray;box-sizing: border-box;top: 0;bottom: 0;left: 50%;z-index: -1;}#sk-container-id-2 div.sk-parallel-item {display: flex;flex-direction: column;z-index: 1;position: relative;background-color: white;}#sk-container-id-2 div.sk-parallel-item:first-child::after {align-self: flex-end;width: 50%;}#sk-container-id-2 div.sk-parallel-item:last-child::after {align-self: flex-start;width: 50%;}#sk-container-id-2 div.sk-parallel-item:only-child::after {width: 0;}#sk-container-id-2 div.sk-dashed-wrapped {border: 1px dashed gray;margin: 0 0.4em 0.5em 0.4em;box-sizing: border-box;padding-bottom: 0.4em;background-color: white;}#sk-container-id-2 div.sk-label label {font-family: monospace;font-weight: bold;display: inline-block;line-height: 1.2em;}#sk-container-id-2 div.sk-label-container {text-align: center;}#sk-container-id-2 div.sk-container {/* jupyter's `normalize.less` sets `[hidden] { display: none; }` but bootstrap.min.css set `[hidden] { display: none !important; }` so we also need the `!important` here to be able to override the default hidden behavior on the sphinx rendered scikit-learn.org. See: https://github.com/scikit-learn/scikit-learn/issues/21755 */display: inline-block !important;position: relative;}#sk-container-id-2 div.sk-text-repr-fallback {display: none;}</style><div id=\"sk-container-id-2\" class=\"sk-top-container\"><div class=\"sk-text-repr-fallback\"><pre>Pipeline(steps=[(&#x27;vectorizer_tri_grams&#x27;, TfidfVectorizer()),\n",
       "                (&#x27;naive_bayes&#x27;, RandomForestClassifier())])</pre><b>In a Jupyter environment, please rerun this cell to show the HTML representation or trust the notebook. <br />On GitHub, the HTML representation is unable to render, please try loading this page with nbviewer.org.</b></div><div class=\"sk-container\" hidden><div class=\"sk-item sk-dashed-wrapped\"><div class=\"sk-label-container\"><div class=\"sk-label sk-toggleable\"><input class=\"sk-toggleable__control sk-hidden--visually\" id=\"sk-estimator-id-4\" type=\"checkbox\" ><label for=\"sk-estimator-id-4\" class=\"sk-toggleable__label sk-toggleable__label-arrow\">Pipeline</label><div class=\"sk-toggleable__content\"><pre>Pipeline(steps=[(&#x27;vectorizer_tri_grams&#x27;, TfidfVectorizer()),\n",
       "                (&#x27;naive_bayes&#x27;, RandomForestClassifier())])</pre></div></div></div><div class=\"sk-serial\"><div class=\"sk-item\"><div class=\"sk-estimator sk-toggleable\"><input class=\"sk-toggleable__control sk-hidden--visually\" id=\"sk-estimator-id-5\" type=\"checkbox\" ><label for=\"sk-estimator-id-5\" class=\"sk-toggleable__label sk-toggleable__label-arrow\">TfidfVectorizer</label><div class=\"sk-toggleable__content\"><pre>TfidfVectorizer()</pre></div></div></div><div class=\"sk-item\"><div class=\"sk-estimator sk-toggleable\"><input class=\"sk-toggleable__control sk-hidden--visually\" id=\"sk-estimator-id-6\" type=\"checkbox\" ><label for=\"sk-estimator-id-6\" class=\"sk-toggleable__label sk-toggleable__label-arrow\">RandomForestClassifier</label><div class=\"sk-toggleable__content\"><pre>RandomForestClassifier()</pre></div></div></div></div></div></div></div>"
      ],
      "text/plain": [
       "Pipeline(steps=[('vectorizer_tri_grams', TfidfVectorizer()),\n",
       "                ('naive_bayes', RandomForestClassifier())])"
      ]
     },
     "execution_count": 23,
     "metadata": {},
     "output_type": "execute_result"
    }
   ],
   "source": [
    "clf.fit(x_train, y_train)"
   ]
  },
  {
   "cell_type": "code",
   "execution_count": 24,
   "id": "1a0d60dd",
   "metadata": {
    "execution": {
     "iopub.execute_input": "2024-09-05T18:04:33.129844Z",
     "iopub.status.busy": "2024-09-05T18:04:33.129421Z",
     "iopub.status.idle": "2024-09-05T18:04:35.467475Z",
     "shell.execute_reply": "2024-09-05T18:04:35.466292Z"
    },
    "papermill": {
     "duration": 2.358795,
     "end_time": "2024-09-05T18:04:35.470374",
     "exception": false,
     "start_time": "2024-09-05T18:04:33.111579",
     "status": "completed"
    },
    "tags": []
   },
   "outputs": [],
   "source": [
    "# Get the predictions for X_test and store it in y_pred\n",
    "y_pred = clf.predict(x_test)"
   ]
  },
  {
   "cell_type": "code",
   "execution_count": 25,
   "id": "efcde28d",
   "metadata": {
    "execution": {
     "iopub.execute_input": "2024-09-05T18:04:35.505162Z",
     "iopub.status.busy": "2024-09-05T18:04:35.504763Z",
     "iopub.status.idle": "2024-09-05T18:04:35.513615Z",
     "shell.execute_reply": "2024-09-05T18:04:35.512298Z"
    },
    "papermill": {
     "duration": 0.029307,
     "end_time": "2024-09-05T18:04:35.516268",
     "exception": false,
     "start_time": "2024-09-05T18:04:35.486961",
     "status": "completed"
    },
    "tags": []
   },
   "outputs": [
    {
     "name": "stdout",
     "output_type": "stream",
     "text": [
      "0.9095945945945946\n"
     ]
    }
   ],
   "source": [
    "# Print Accuracy\n",
    "print(accuracy_score(y_test, y_pred))"
   ]
  },
  {
   "cell_type": "code",
   "execution_count": 26,
   "id": "44d1eab4",
   "metadata": {
    "execution": {
     "iopub.execute_input": "2024-09-05T18:04:35.549643Z",
     "iopub.status.busy": "2024-09-05T18:04:35.549189Z",
     "iopub.status.idle": "2024-09-05T18:04:35.592612Z",
     "shell.execute_reply": "2024-09-05T18:04:35.591026Z"
    },
    "papermill": {
     "duration": 0.063605,
     "end_time": "2024-09-05T18:04:35.595644",
     "exception": false,
     "start_time": "2024-09-05T18:04:35.532039",
     "status": "completed"
    },
    "tags": []
   },
   "outputs": [
    {
     "name": "stdout",
     "output_type": "stream",
     "text": [
      "              precision    recall  f1-score   support\n",
      "\n",
      "           0       0.96      0.86      0.91      2575\n",
      "           1       0.92      0.93      0.93      4472\n",
      "           2       0.93      0.89      0.91      3622\n",
      "           3       0.85      0.94      0.89      4131\n",
      "\n",
      "    accuracy                           0.91     14800\n",
      "   macro avg       0.92      0.90      0.91     14800\n",
      "weighted avg       0.91      0.91      0.91     14800\n",
      "\n"
     ]
    }
   ],
   "source": [
    "# Print the classfication report\n",
    "print(classification_report(y_test, y_pred))"
   ]
  },
  {
   "cell_type": "markdown",
   "id": "ed3ef3a3",
   "metadata": {
    "papermill": {
     "duration": 0.015408,
     "end_time": "2024-09-05T18:04:35.628312",
     "exception": false,
     "start_time": "2024-09-05T18:04:35.612904",
     "status": "completed"
    },
    "tags": []
   },
   "source": [
    "# Test Models"
   ]
  },
  {
   "cell_type": "code",
   "execution_count": 27,
   "id": "70da8467",
   "metadata": {
    "execution": {
     "iopub.execute_input": "2024-09-05T18:04:35.661642Z",
     "iopub.status.busy": "2024-09-05T18:04:35.661225Z",
     "iopub.status.idle": "2024-09-05T18:04:35.698866Z",
     "shell.execute_reply": "2024-09-05T18:04:35.697640Z"
    },
    "papermill": {
     "duration": 0.057328,
     "end_time": "2024-09-05T18:04:35.701464",
     "exception": false,
     "start_time": "2024-09-05T18:04:35.644136",
     "status": "completed"
    },
    "tags": []
   },
   "outputs": [
    {
     "data": {
      "text/html": [
       "<div>\n",
       "<style scoped>\n",
       "    .dataframe tbody tr th:only-of-type {\n",
       "        vertical-align: middle;\n",
       "    }\n",
       "\n",
       "    .dataframe tbody tr th {\n",
       "        vertical-align: top;\n",
       "    }\n",
       "\n",
       "    .dataframe thead th {\n",
       "        text-align: right;\n",
       "    }\n",
       "</style>\n",
       "<table border=\"1\" class=\"dataframe\">\n",
       "  <thead>\n",
       "    <tr style=\"text-align: right;\">\n",
       "      <th></th>\n",
       "      <th>id</th>\n",
       "      <th>country</th>\n",
       "      <th>label</th>\n",
       "      <th>text</th>\n",
       "    </tr>\n",
       "  </thead>\n",
       "  <tbody>\n",
       "    <tr>\n",
       "      <th>0</th>\n",
       "      <td>3364</td>\n",
       "      <td>Facebook</td>\n",
       "      <td>Irrelevant</td>\n",
       "      <td>I mentioned on Facebook that I was struggling ...</td>\n",
       "    </tr>\n",
       "    <tr>\n",
       "      <th>1</th>\n",
       "      <td>352</td>\n",
       "      <td>Amazon</td>\n",
       "      <td>Neutral</td>\n",
       "      <td>BBC News - Amazon boss Jeff Bezos rejects clai...</td>\n",
       "    </tr>\n",
       "    <tr>\n",
       "      <th>2</th>\n",
       "      <td>8312</td>\n",
       "      <td>Microsoft</td>\n",
       "      <td>Negative</td>\n",
       "      <td>@Microsoft Why do I pay for WORD when it funct...</td>\n",
       "    </tr>\n",
       "    <tr>\n",
       "      <th>3</th>\n",
       "      <td>4371</td>\n",
       "      <td>CS-GO</td>\n",
       "      <td>Negative</td>\n",
       "      <td>CSGO matchmaking is so full of closet hacking,...</td>\n",
       "    </tr>\n",
       "    <tr>\n",
       "      <th>4</th>\n",
       "      <td>4433</td>\n",
       "      <td>Google</td>\n",
       "      <td>Neutral</td>\n",
       "      <td>Now the President is slapping Americans in the...</td>\n",
       "    </tr>\n",
       "    <tr>\n",
       "      <th>...</th>\n",
       "      <td>...</td>\n",
       "      <td>...</td>\n",
       "      <td>...</td>\n",
       "      <td>...</td>\n",
       "    </tr>\n",
       "    <tr>\n",
       "      <th>995</th>\n",
       "      <td>4891</td>\n",
       "      <td>GrandTheftAuto(GTA)</td>\n",
       "      <td>Irrelevant</td>\n",
       "      <td>⭐️ Toronto is the arts and culture capital of ...</td>\n",
       "    </tr>\n",
       "    <tr>\n",
       "      <th>996</th>\n",
       "      <td>4359</td>\n",
       "      <td>CS-GO</td>\n",
       "      <td>Irrelevant</td>\n",
       "      <td>tHIS IS ACTUALLY A GOOD MOVE TOT BRING MORE VI...</td>\n",
       "    </tr>\n",
       "    <tr>\n",
       "      <th>997</th>\n",
       "      <td>2652</td>\n",
       "      <td>Borderlands</td>\n",
       "      <td>Positive</td>\n",
       "      <td>Today sucked so it’s time to drink wine n play...</td>\n",
       "    </tr>\n",
       "    <tr>\n",
       "      <th>998</th>\n",
       "      <td>8069</td>\n",
       "      <td>Microsoft</td>\n",
       "      <td>Positive</td>\n",
       "      <td>Bought a fraction of Microsoft today. Small wins.</td>\n",
       "    </tr>\n",
       "    <tr>\n",
       "      <th>999</th>\n",
       "      <td>6960</td>\n",
       "      <td>johnson&amp;johnson</td>\n",
       "      <td>Neutral</td>\n",
       "      <td>Johnson &amp; Johnson to stop selling talc baby po...</td>\n",
       "    </tr>\n",
       "  </tbody>\n",
       "</table>\n",
       "<p>1000 rows × 4 columns</p>\n",
       "</div>"
      ],
      "text/plain": [
       "       id              country       label  \\\n",
       "0    3364             Facebook  Irrelevant   \n",
       "1     352               Amazon     Neutral   \n",
       "2    8312            Microsoft    Negative   \n",
       "3    4371                CS-GO    Negative   \n",
       "4    4433               Google     Neutral   \n",
       "..    ...                  ...         ...   \n",
       "995  4891  GrandTheftAuto(GTA)  Irrelevant   \n",
       "996  4359                CS-GO  Irrelevant   \n",
       "997  2652          Borderlands    Positive   \n",
       "998  8069            Microsoft    Positive   \n",
       "999  6960      johnson&johnson     Neutral   \n",
       "\n",
       "                                                  text  \n",
       "0    I mentioned on Facebook that I was struggling ...  \n",
       "1    BBC News - Amazon boss Jeff Bezos rejects clai...  \n",
       "2    @Microsoft Why do I pay for WORD when it funct...  \n",
       "3    CSGO matchmaking is so full of closet hacking,...  \n",
       "4    Now the President is slapping Americans in the...  \n",
       "..                                                 ...  \n",
       "995  ⭐️ Toronto is the arts and culture capital of ...  \n",
       "996  tHIS IS ACTUALLY A GOOD MOVE TOT BRING MORE VI...  \n",
       "997  Today sucked so it’s time to drink wine n play...  \n",
       "998  Bought a fraction of Microsoft today. Small wins.  \n",
       "999  Johnson & Johnson to stop selling talc baby po...  \n",
       "\n",
       "[1000 rows x 4 columns]"
      ]
     },
     "execution_count": 27,
     "metadata": {},
     "output_type": "execute_result"
    }
   ],
   "source": [
    "test_df = pd.read_csv('/kaggle/input/twitter-entity-sentiment-analysis/twitter_validation.csv', names= columns)\n",
    "test_df"
   ]
  },
  {
   "cell_type": "code",
   "execution_count": 28,
   "id": "93de8913",
   "metadata": {
    "execution": {
     "iopub.execute_input": "2024-09-05T18:04:35.736100Z",
     "iopub.status.busy": "2024-09-05T18:04:35.735335Z",
     "iopub.status.idle": "2024-09-05T18:04:35.742368Z",
     "shell.execute_reply": "2024-09-05T18:04:35.740941Z"
    },
    "papermill": {
     "duration": 0.027359,
     "end_time": "2024-09-05T18:04:35.745086",
     "exception": false,
     "start_time": "2024-09-05T18:04:35.717727",
     "status": "completed"
    },
    "tags": []
   },
   "outputs": [
    {
     "name": "stdout",
     "output_type": "stream",
     "text": [
      "The professional dota 2 scene is fucking exploding and I completely welcome it.\n",
      "\n",
      "Get the garbage out. ===> Positive\n"
     ]
    }
   ],
   "source": [
    "test_text = test_df['text'][10]\n",
    "print(f\"{test_text} ===> {test_df['label'][10]}\")"
   ]
  },
  {
   "cell_type": "code",
   "execution_count": 29,
   "id": "bdca6b35",
   "metadata": {
    "execution": {
     "iopub.execute_input": "2024-09-05T18:04:35.780449Z",
     "iopub.status.busy": "2024-09-05T18:04:35.780027Z",
     "iopub.status.idle": "2024-09-05T18:04:35.800722Z",
     "shell.execute_reply": "2024-09-05T18:04:35.799506Z"
    },
    "papermill": {
     "duration": 0.042128,
     "end_time": "2024-09-05T18:04:35.803588",
     "exception": false,
     "start_time": "2024-09-05T18:04:35.761460",
     "status": "completed"
    },
    "tags": []
   },
   "outputs": [
    {
     "data": {
      "text/plain": [
       "['professional dota 2 scene fucking explode completely welcome \\n\\n garbage']"
      ]
     },
     "execution_count": 29,
     "metadata": {},
     "output_type": "execute_result"
    }
   ],
   "source": [
    "test_text_processed = [preprocess(test_text)]\n",
    "test_text_processed"
   ]
  },
  {
   "cell_type": "code",
   "execution_count": 30,
   "id": "cd8e84ac",
   "metadata": {
    "execution": {
     "iopub.execute_input": "2024-09-05T18:04:35.838653Z",
     "iopub.status.busy": "2024-09-05T18:04:35.838215Z",
     "iopub.status.idle": "2024-09-05T18:04:35.853527Z",
     "shell.execute_reply": "2024-09-05T18:04:35.852241Z"
    },
    "papermill": {
     "duration": 0.036403,
     "end_time": "2024-09-05T18:04:35.856585",
     "exception": false,
     "start_time": "2024-09-05T18:04:35.820182",
     "status": "completed"
    },
    "tags": []
   },
   "outputs": [],
   "source": [
    "test_text = clf.predict(test_text_processed)"
   ]
  },
  {
   "cell_type": "code",
   "execution_count": 31,
   "id": "aa6dcd1e",
   "metadata": {
    "execution": {
     "iopub.execute_input": "2024-09-05T18:04:35.891325Z",
     "iopub.status.busy": "2024-09-05T18:04:35.890920Z",
     "iopub.status.idle": "2024-09-05T18:04:35.897879Z",
     "shell.execute_reply": "2024-09-05T18:04:35.896612Z"
    },
    "papermill": {
     "duration": 0.027727,
     "end_time": "2024-09-05T18:04:35.900797",
     "exception": false,
     "start_time": "2024-09-05T18:04:35.873070",
     "status": "completed"
    },
    "tags": []
   },
   "outputs": [
    {
     "name": "stdout",
     "output_type": "stream",
     "text": [
      "True Label: Positive\n",
      "Predict Label: Positive\n"
     ]
    }
   ],
   "source": [
    "classes = ['Irrelevant', 'Natural', 'Negative', 'Positive']\n",
    "\n",
    "print(f\"True Label: {test_df['label'][10]}\")\n",
    "print(f'Predict Label: {classes[test_text[0]]}')"
   ]
  }
 ],
 "metadata": {
  "kaggle": {
   "accelerator": "none",
   "dataSources": [
    {
     "datasetId": 1520310,
     "sourceId": 2510329,
     "sourceType": "datasetVersion"
    }
   ],
   "dockerImageVersionId": 30746,
   "isGpuEnabled": false,
   "isInternetEnabled": true,
   "language": "python",
   "sourceType": "notebook"
  },
  "kernelspec": {
   "display_name": "Python 3",
   "language": "python",
   "name": "python3"
  },
  "language_info": {
   "codemirror_mode": {
    "name": "ipython",
    "version": 3
   },
   "file_extension": ".py",
   "mimetype": "text/x-python",
   "name": "python",
   "nbconvert_exporter": "python",
   "pygments_lexer": "ipython3",
   "version": "3.10.13"
  },
  "papermill": {
   "default_parameters": {},
   "duration": 1056.331537,
   "end_time": "2024-09-05T18:04:37.449101",
   "environment_variables": {},
   "exception": null,
   "input_path": "__notebook__.ipynb",
   "output_path": "__notebook__.ipynb",
   "parameters": {},
   "start_time": "2024-09-05T17:47:01.117564",
   "version": "2.5.0"
  }
 },
 "nbformat": 4,
 "nbformat_minor": 5
}
